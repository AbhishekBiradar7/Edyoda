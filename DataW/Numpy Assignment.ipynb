{
 "cells": [
  {
   "cell_type": "code",
   "execution_count": 1,
   "id": "f6bcf053",
   "metadata": {},
   "outputs": [],
   "source": [
    "import numpy as np"
   ]
  },
  {
   "cell_type": "markdown",
   "id": "fbd9e5ba",
   "metadata": {},
   "source": [
    "1. Create a null vector of size 10 but the fifth value which is 1."
   ]
  },
  {
   "cell_type": "code",
   "execution_count": 3,
   "id": "d9d43934",
   "metadata": {},
   "outputs": [
    {
     "name": "stdout",
     "output_type": "stream",
     "text": [
      "[0 0 0 0 1 0 0 0 0 0]\n"
     ]
    }
   ],
   "source": [
    "null_vector = np.array([int(x==4) for x in range(10)])\n",
    "print(null_vector)"
   ]
  },
  {
   "cell_type": "markdown",
   "id": "e19c93bb",
   "metadata": {},
   "source": [
    "2. Create a vector with values ranging from 10 to 49"
   ]
  },
  {
   "cell_type": "code",
   "execution_count": 4,
   "id": "e3206411",
   "metadata": {},
   "outputs": [
    {
     "name": "stdout",
     "output_type": "stream",
     "text": [
      "[10 11 12 13 14 15 16 17 18 19 20 21 22 23 24 25 26 27 28 29 30 31 32 33\n",
      " 34 35 36 37 38 39 40 41 42 43 44 45 46 47 48 49]\n"
     ]
    }
   ],
   "source": [
    "vector = np.arange(10,50)\n",
    "print(vector)"
   ]
  },
  {
   "cell_type": "markdown",
   "id": "dc7fc2a7",
   "metadata": {},
   "source": [
    "3. Create a 3x3 matrix with values ranging from 0 to 8"
   ]
  },
  {
   "cell_type": "code",
   "execution_count": 5,
   "id": "021976f3",
   "metadata": {},
   "outputs": [
    {
     "data": {
      "text/plain": [
       "array([[0, 1, 2],\n",
       "       [3, 4, 5],\n",
       "       [6, 7, 8]])"
      ]
     },
     "execution_count": 5,
     "metadata": {},
     "output_type": "execute_result"
    }
   ],
   "source": [
    "Matrix = np.arange(0,9).reshape(3,3)\n",
    "Matrix"
   ]
  },
  {
   "cell_type": "markdown",
   "id": "99b83e99",
   "metadata": {},
   "source": [
    "4. Find indices of non-zero elements from [1,2,0,0,4,0]"
   ]
  },
  {
   "cell_type": "code",
   "execution_count": 7,
   "id": "b8fec28c",
   "metadata": {},
   "outputs": [
    {
     "name": "stdout",
     "output_type": "stream",
     "text": [
      "indices of non-zero elements: (array([0, 1, 4], dtype=int64),)\n"
     ]
    }
   ],
   "source": [
    "indices = np.array([1,2,0,0,4,0])\n",
    "print(\"indices of non-zero elements:\",np.nonzero(indices))"
   ]
  },
  {
   "cell_type": "markdown",
   "id": "310695cb",
   "metadata": {},
   "source": [
    "5. Create a 10x10 array with random values and find the minimum and maximum values."
   ]
  },
  {
   "cell_type": "code",
   "execution_count": 8,
   "id": "eb81344d",
   "metadata": {},
   "outputs": [
    {
     "name": "stdout",
     "output_type": "stream",
     "text": [
      "Minimum vales: 0.0010792056463373445\n",
      "Maximum values: 0.9888899520279352\n",
      "[[0.76765616 0.77996976 0.3770238  0.82716236 0.07768126 0.29613755\n",
      "  0.55969994 0.7985936  0.52196603 0.46809442]\n",
      " [0.80944356 0.95879138 0.27227499 0.61337823 0.2283304  0.67172379\n",
      "  0.9312341  0.20364438 0.00590686 0.46365026]\n",
      " [0.57368782 0.25142974 0.82063683 0.20602558 0.08261315 0.88059365\n",
      "  0.95323762 0.22989127 0.55721133 0.9314811 ]\n",
      " [0.96005651 0.69569635 0.39402923 0.81332116 0.13407905 0.14046883\n",
      "  0.06160994 0.25665644 0.46272456 0.55352712]\n",
      " [0.07287769 0.17122742 0.00107921 0.96372784 0.50940974 0.17958483\n",
      "  0.38994849 0.31195075 0.14075398 0.97123828]\n",
      " [0.59664199 0.03655047 0.36690159 0.29177544 0.14376079 0.37013776\n",
      "  0.68016752 0.54015481 0.09450815 0.25741511]\n",
      " [0.4606822  0.17879226 0.81502027 0.31068157 0.21116116 0.40776276\n",
      "  0.90990819 0.33868893 0.7165516  0.4403311 ]\n",
      " [0.83825655 0.32005178 0.07477658 0.59505914 0.58209225 0.05860376\n",
      "  0.80531444 0.35189897 0.89356915 0.14603456]\n",
      " [0.47443953 0.54252013 0.32431793 0.17454198 0.42390166 0.38366731\n",
      "  0.3061467  0.88748516 0.98639351 0.14471258]\n",
      " [0.00559072 0.98888995 0.81242012 0.15073509 0.89070714 0.72345669\n",
      "  0.54420417 0.88286485 0.98395691 0.57204916]]\n"
     ]
    }
   ],
   "source": [
    "import random\n",
    "random.seed(10)\n",
    "x=np.random.random(size=(10,10))\n",
    "print(\"Minimum vales:\",x.min())\n",
    "print(\"Maximum values:\",x.max())\n",
    "print(x)"
   ]
  },
  {
   "cell_type": "markdown",
   "id": "b2af38be",
   "metadata": {},
   "source": [
    "6. Create a random vector of size 30 and find the mean value."
   ]
  },
  {
   "cell_type": "code",
   "execution_count": 10,
   "id": "0c633df9",
   "metadata": {},
   "outputs": [
    {
     "name": "stdout",
     "output_type": "stream",
     "text": [
      "mean: 0.5287985396180559\n"
     ]
    }
   ],
   "source": [
    "random_vector=np.random.random((10,11))\n",
    "Mean_value =np.mean(random_vector)\n",
    "print(\"mean:\",Mean_value)"
   ]
  },
  {
   "cell_type": "code",
   "execution_count": null,
   "id": "405dca6e",
   "metadata": {},
   "outputs": [],
   "source": []
  }
 ],
 "metadata": {
  "kernelspec": {
   "display_name": "Python 3",
   "language": "python",
   "name": "python3"
  },
  "language_info": {
   "codemirror_mode": {
    "name": "ipython",
    "version": 3
   },
   "file_extension": ".py",
   "mimetype": "text/x-python",
   "name": "python",
   "nbconvert_exporter": "python",
   "pygments_lexer": "ipython3",
   "version": "3.7.10"
  }
 },
 "nbformat": 4,
 "nbformat_minor": 5
}
