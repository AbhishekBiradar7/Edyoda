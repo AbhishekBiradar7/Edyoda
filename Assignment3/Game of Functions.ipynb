{
 "cells": [
  {
   "cell_type": "code",
   "execution_count": 4,
   "id": "e2071b05",
   "metadata": {},
   "outputs": [
    {
     "name": "stdout",
     "output_type": "stream",
     "text": [
      "Numbers in list:4\n",
      "Enter the number:22\n",
      "Enter the number:42\n",
      "Enter the number:32\n",
      "Enter the number:54\n",
      "Sum of the given list: 150\n"
     ]
    }
   ],
   "source": [
    "n =  int(input(\"Numbers in list:\"))\n",
    "list1 =[]\n",
    "for i in range(n):\n",
    "    list1.append(int(input('Enter the number:')))\n",
    "\n",
    "sum_list1=0\n",
    "for i in list1:\n",
    "    sum_list1=sum_list1+i\n",
    "    \n",
    "print(\"Sum of the given list:\", sum_list1)"
   ]
  },
  {
   "cell_type": "code",
   "execution_count": 2,
   "id": "5eaba17e",
   "metadata": {},
   "outputs": [
    {
     "name": "stdout",
     "output_type": "stream",
     "text": [
      "Numbers in list: 5\n",
      "Enter the number45\n",
      "Enter the number454\n",
      "Enter the number86\n",
      "Enter the number45\n",
      "Enter the number45\n",
      "675\n"
     ]
    }
   ],
   "source": [
    "user_input_list = [ ]\n",
    "len_list = int(input(\"Numbers in list: \"))\n",
    "for i in range(0,len_list):\n",
    "    user_input_element=int(input(\"Enter the number\"))\n",
    "    user_input_list.append(user_input_element)\n",
    "def abc(user_input):\n",
    "    sum=0\n",
    "    for i in user_input:\n",
    "        sum=sum+i\n",
    "    return sum\n",
    "\n",
    "result = abc(user_input_list)\n",
    "print(result)"
   ]
  },
  {
   "cell_type": "code",
   "execution_count": null,
   "id": "152535de",
   "metadata": {},
   "outputs": [],
   "source": []
  }
 ],
 "metadata": {
  "kernelspec": {
   "display_name": "Python 3",
   "language": "python",
   "name": "python3"
  },
  "language_info": {
   "codemirror_mode": {
    "name": "ipython",
    "version": 3
   },
   "file_extension": ".py",
   "mimetype": "text/x-python",
   "name": "python",
   "nbconvert_exporter": "python",
   "pygments_lexer": "ipython3",
   "version": "3.7.10"
  }
 },
 "nbformat": 4,
 "nbformat_minor": 5
}
