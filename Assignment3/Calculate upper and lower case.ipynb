{
 "cells": [
  {
   "cell_type": "code",
   "execution_count": 5,
   "id": "b4c7f292",
   "metadata": {},
   "outputs": [
    {
     "name": "stdout",
     "output_type": "stream",
     "text": [
      "No. of Upper case characters : 3, No. of Lower case characters : 12\n"
     ]
    }
   ],
   "source": [
    "def abc(sentence):      \n",
    "    x = sum(1 for i in sentence if i.isupper())\n",
    "    y = sum(1 for i in sentence if i.islower())\n",
    "    print( \"No. of Upper case characters : %s, No. of Lower case characters : %s\" % (x,y))\n",
    "\n",
    "abc('The quick Brow Fox')"
   ]
  },
  {
   "cell_type": "code",
   "execution_count": null,
   "id": "a43cb9cc",
   "metadata": {},
   "outputs": [],
   "source": []
  }
 ],
 "metadata": {
  "kernelspec": {
   "display_name": "Python 3",
   "language": "python",
   "name": "python3"
  },
  "language_info": {
   "codemirror_mode": {
    "name": "ipython",
    "version": 3
   },
   "file_extension": ".py",
   "mimetype": "text/x-python",
   "name": "python",
   "nbconvert_exporter": "python",
   "pygments_lexer": "ipython3",
   "version": "3.7.10"
  }
 },
 "nbformat": 4,
 "nbformat_minor": 5
}
